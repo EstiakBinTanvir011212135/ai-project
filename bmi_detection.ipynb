{
  "nbformat": 4,
  "nbformat_minor": 0,
  "metadata": {
    "colab": {
      "provenance": []
    },
    "kernelspec": {
      "name": "python3",
      "display_name": "Python 3"
    },
    "language_info": {
      "name": "python"
    }
  },
  "cells": [
    {
      "cell_type": "markdown",
      "source": [
        "# Library Imports"
      ],
      "metadata": {
        "id": "63YVX_0HgzHb"
      }
    },
    {
      "cell_type": "code",
      "source": [
        "import pandas as pd\n",
        "from sklearn.model_selection import train_test_split\n",
        "from sklearn.preprocessing import LabelEncoder\n",
        "from sklearn.ensemble import RandomForestClassifier\n",
        "from sklearn.tree import DecisionTreeClassifier\n",
        "from sklearn.metrics import accuracy_score"
      ],
      "metadata": {
        "id": "hCe5oID0hBTs"
      },
      "execution_count": 2,
      "outputs": []
    },
    {
      "cell_type": "markdown",
      "source": [
        "# Preprocessing"
      ],
      "metadata": {
        "id": "fve9JNFKhjQz"
      }
    },
    {
      "cell_type": "code",
      "source": [
        "# Load the dataset from CSV file\n",
        "file_path = '/content/health.csv'  # Replace with your actual file path\n",
        "df = pd.read_csv(file_path)\n",
        "\n",
        "# Preprocessing\n",
        "label_encoder = LabelEncoder()\n",
        "df['Status_encoded'] = label_encoder.fit_transform(df['Status'])\n",
        "\n",
        "# Split data into features and target\n",
        "X = df[['BMI']]\n",
        "y = df['Status_encoded']\n",
        "\n",
        "# Split into training and testing sets\n",
        "X_train, X_test, y_train, y_test = train_test_split(X, y, test_size=0.2, random_state=42)"
      ],
      "metadata": {
        "id": "-7VdRnqGhn3C"
      },
      "execution_count": 3,
      "outputs": []
    },
    {
      "cell_type": "markdown",
      "source": [
        "# Model Compilation"
      ],
      "metadata": {
        "id": "lwSeGGMCiP7k"
      }
    },
    {
      "cell_type": "code",
      "source": [
        "# Initialize models\n",
        "models = {\n",
        "    \"Decision Tree\": DecisionTreeClassifier(),\n",
        "    \"Random Forest\": RandomForestClassifier()\n",
        "}"
      ],
      "metadata": {
        "id": "0nw7SstBiTng"
      },
      "execution_count": 4,
      "outputs": []
    },
    {
      "cell_type": "markdown",
      "source": [
        "# Model fitting and Accuracy"
      ],
      "metadata": {
        "id": "vO1cDuOnjVgj"
      }
    },
    {
      "cell_type": "code",
      "source": [
        "# Train and evaluate models\n",
        "for model_name, model in models.items():\n",
        "    # Train the model\n",
        "    model.fit(X_train, y_train)\n",
        "    # Make predictions\n",
        "    y_pred = model.predict(X_test)\n",
        "    # Evaluate accuracy\n",
        "    accuracy = accuracy_score(y_test, y_pred)\n",
        "    print(f\"{model_name} Accuracy: {accuracy * 100:.2f}%\")"
      ],
      "metadata": {
        "colab": {
          "base_uri": "https://localhost:8080/"
        },
        "id": "19wuq3sqiYl-",
        "outputId": "532303c9-e578-4ecd-c6b2-435d5982e8d2"
      },
      "execution_count": 5,
      "outputs": [
        {
          "output_type": "stream",
          "name": "stdout",
          "text": [
            "Decision Tree Accuracy: 100.00%\n",
            "Random Forest Accuracy: 100.00%\n"
          ]
        }
      ]
    },
    {
      "cell_type": "markdown",
      "source": [
        "# Prediction"
      ],
      "metadata": {
        "id": "c5Gh-_E3jSm5"
      }
    },
    {
      "cell_type": "code",
      "execution_count": 9,
      "metadata": {
        "id": "qPdbYGvXgECK"
      },
      "outputs": [],
      "source": [
        "# Predict suggestions\n",
        "def get_suggestion(bmi_value):\n",
        "    bmi_df = pd.DataFrame([[bmi_value]], columns=['BMI'])  # Create a DataFrame with feature names\n",
        "    prediction = models[\"Decision Tree\"].predict(bmi_df)[0]\n",
        "    status = label_encoder.inverse_transform([prediction])[0]\n",
        "    suggestion = df[df['Status'] == status]['Suggestion'].iloc[0]\n",
        "    return status, suggestion"
      ]
    },
    {
      "cell_type": "code",
      "source": [
        "get_suggestion(24)"
      ],
      "metadata": {
        "colab": {
          "base_uri": "https://localhost:8080/"
        },
        "id": "rKBRDLhViphz",
        "outputId": "e4eb1aa2-4501-49fd-d51f-386e0970ca33"
      },
      "execution_count": 10,
      "outputs": [
        {
          "output_type": "execute_result",
          "data": {
            "text/plain": [
              "('Stay Healthy', 'Run every day, eat 30g protein, and sleep properly')"
            ]
          },
          "metadata": {},
          "execution_count": 10
        }
      ]
    }
  ]
}